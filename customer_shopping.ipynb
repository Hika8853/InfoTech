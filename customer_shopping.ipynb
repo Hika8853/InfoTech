{
  "cells": [
    {
      "cell_type": "code",
      "execution_count": null,
      "metadata": {
        "id": "eU0KDHQxqlaN"
      },
      "outputs": [],
      "source": [
        "import pandas as pd\n",
        "import os\n",
        "for dirname, _, filenames in os.walk('/kaggle/input'):\n",
        "    for filename in filenames:\n",
        "        print(os.path.join(dirname, filename))\n",
        "import numpy as np"
      ]
    },
    {
      "cell_type": "code",
      "execution_count": null,
      "metadata": {
        "id": "lvhBGIh0qlaO"
      },
      "outputs": [],
      "source": [
        "import pandas as pd\n",
        "import numpy as np\n",
        "import seaborn as sns\n",
        "import matplotlib.pyplot as plt\n",
        "plt.style.use('https://github.com/dhaitz/matplotlib-stylesheets/raw/master/pitayasmoothie-dark.mplstyle')\n",
        "import plotly.express as px\n",
        "import plotly.graph_objects as go\n",
        "from plotly import tools\n",
        "from plotly.subplots import make_subplots\n",
        "from plotly.offline import iplot, init_notebook_mode\n",
        "init_notebook_mode()\n",
        "import warnings\n",
        "warnings.filterwarnings('ignore')\n",
        "from wordcloud import WordCloud, STOPWORDS\n",
        "import zipfile\n"
      ]
    },
    {
      "cell_type": "markdown",
      "metadata": {
        "id": "KfiySaBHqlaP"
      },
      "source": [
        "# Data Loading"
      ]
    },
    {
      "cell_type": "code",
      "execution_count": null,
      "metadata": {
        "id": "5HlHqrAUrrC6"
      },
      "outputs": [],
      "source": [
        "from google.colab import files\n",
        "\n",
        "uploaded = files.upload()\n",
        "\n",
        "# Make sure the uploaded file is named kaggle.json\n",
        "!mkdir -p ~/.kaggle\n",
        "!cp kaggle.json ~/.kaggle/\n",
        "!chmod 600 ~/.kaggle/kaggle.json\n"
      ]
    },
    {
      "cell_type": "code",
      "execution_count": null,
      "metadata": {
        "id": "zMWpGsZNsqSK"
      },
      "outputs": [],
      "source": [
        "!kaggle datasets download -d mehmettahiraslan/customer-shopping-dataset\n"
      ]
    },
    {
      "cell_type": "code",
      "execution_count": null,
      "metadata": {
        "id": "0c7TNpdwsu1e"
      },
      "outputs": [],
      "source": [
        "zip_file_path = '/content/customer-shopping-dataset.zip'\n",
        "\n",
        "# Specify the directory to extract the dataset\n",
        "extraction_path = '/content'\n",
        "\n",
        "os.makedirs(extraction_path, exist_ok=True)\n",
        "\n",
        "# Extract the dataset\n",
        "with zipfile.ZipFile(zip_file_path, 'r') as zip_ref:\n",
        "    zip_ref.extractall(extraction_path)"
      ]
    },
    {
      "cell_type": "code",
      "execution_count": null,
      "metadata": {
        "id": "qE8YXQk7qlaW"
      },
      "outputs": [],
      "source": [
        "df=pd.read_csv('/content/customer_shopping_data.csv')"
      ]
    },
    {
      "cell_type": "code",
      "execution_count": null,
      "metadata": {
        "id": "3Cbfhy9-qlaW"
      },
      "outputs": [],
      "source": [
        "df"
      ]
    },
    {
      "cell_type": "code",
      "execution_count": null,
      "metadata": {
        "id": "q5kL1xgiqlaX"
      },
      "outputs": [],
      "source": [
        "df.columns"
      ]
    },
    {
      "cell_type": "code",
      "execution_count": null,
      "metadata": {
        "id": "vaKcTp6LqlaX"
      },
      "outputs": [],
      "source": [
        "df.drop(columns=['invoice_no'], inplace=True)"
      ]
    },
    {
      "cell_type": "markdown",
      "metadata": {
        "id": "o3VfJ6sCqlaX"
      },
      "source": [
        "# The most visited shopping malls"
      ]
    },
    {
      "cell_type": "code",
      "execution_count": null,
      "metadata": {
        "id": "FOmoMkNdqlaX"
      },
      "outputs": [],
      "source": [
        "import matplotlib.pyplot as plt\n",
        "import matplotlib.cm as cm\n",
        "import numpy as np\n",
        "\n",
        "# Define the base color\n",
        "base_color = '#ff0000'  # You can change this to any color you prefer\n",
        "\n",
        "# Generate different shades of the base color\n",
        "num_colors = len(df['shopping_mall'].unique())\n",
        "colors = [base_color] + [cm.spring(i / num_colors) for i in range(1, num_colors)]\n",
        "\n",
        "# Plotting a donut chart for shopping mall visit counts with custom colors\n",
        "plt.figure(figsize=(8, 8))\n",
        "plt.pie(df['shopping_mall'].value_counts(), labels=df['shopping_mall'].value_counts().index, autopct='%1.2f%%', startangle=90, wedgeprops=dict(width=0.4), colors=colors)\n",
        "plt.title('The most visited shopping malls')\n",
        "plt.axis('equal')  # Equal aspect ratio ensures that pie is drawn as a circle.\n",
        "plt.show()\n"
      ]
    },
    {
      "cell_type": "markdown",
      "metadata": {
        "id": "YNka-ydFqlaX"
      },
      "source": [
        "# Gender distribution"
      ]
    },
    {
      "cell_type": "code",
      "execution_count": null,
      "metadata": {
        "id": "_QX5zYOhqlaX"
      },
      "outputs": [],
      "source": [
        "import matplotlib.pyplot as plt\n",
        "\n",
        "# Define custom colors for 'male' and 'female'\n",
        "custom_colors = ['#4169E1', '#800080']  # Blue for male, Purple for female\n",
        "\n",
        "# Plotting a pie chart for gender distribution with custom colors\n",
        "plt.figure(figsize=(8, 8))\n",
        "df['gender'].value_counts().plot(kind='pie', autopct='%1.2f%%', colors=custom_colors)\n",
        "plt.title('Gender distribution')\n",
        "plt.axis('equal')  # Equal aspect ratio ensures that pie is drawn as a circle.\n",
        "plt.show()\n"
      ]
    },
    {
      "cell_type": "markdown",
      "metadata": {
        "id": "NZN1c0t1qlaY"
      },
      "source": [
        "!! the Women have been Shopping a lot over man"
      ]
    },
    {
      "cell_type": "markdown",
      "metadata": {
        "id": "BCJmhm8_qlaY"
      },
      "source": [
        "# Distribution by age groups\n"
      ]
    },
    {
      "cell_type": "code",
      "execution_count": null,
      "metadata": {
        "id": "WUorfzMoqlaY"
      },
      "outputs": [],
      "source": [
        "def age_group_(x):\n",
        "    if x <= 20 :\n",
        "        x= '18-20yo'\n",
        "    elif x >20 and x <=30:\n",
        "        x= '21-30yo'\n",
        "    elif x >30 and x <=40:\n",
        "        x= '31-40yo'\n",
        "    elif x >40 and x <=50:\n",
        "        x= '41-50yo'\n",
        "    elif x >50 and x <=60:\n",
        "        x= '51-60yo'\n",
        "    else:\n",
        "        x= '61yo+'\n",
        "    return x"
      ]
    },
    {
      "cell_type": "code",
      "execution_count": null,
      "metadata": {
        "id": "uoGTJQwSqlaY"
      },
      "outputs": [],
      "source": [
        "df['age_group']=df['age'].apply(age_group_)\n",
        "df.groupby('age_group')['gender'].agg(['count'])"
      ]
    },
    {
      "cell_type": "code",
      "execution_count": null,
      "metadata": {
        "id": "uLhtwn5LqlaY"
      },
      "outputs": [],
      "source": [
        "import matplotlib.pyplot as plt\n",
        "\n",
        "# Plotting a bar plot for age distribution\n",
        "plt.figure(figsize=(10, 6))\n",
        "df['age'].value_counts().sort_index().plot(kind='bar', color='skyblue')\n",
        "plt.title('Age Distribution')\n",
        "plt.xlabel('Age')\n",
        "plt.ylabel('Count')\n",
        "plt.xticks(rotation=45)\n",
        "plt.grid(axis='y', linestyle='--', alpha=0.7)\n",
        "plt.tight_layout()\n",
        "plt.show()\n"
      ]
    },
    {
      "cell_type": "code",
      "execution_count": null,
      "metadata": {
        "id": "1Drk6MXwqlaY"
      },
      "outputs": [],
      "source": [
        "import matplotlib.pyplot as plt\n",
        "\n",
        "# Define age groups\n",
        "age_bins = [17, 20, 30, 40, 50, 60, 100]\n",
        "age_labels = ['18-20yo', '21-30yo', '31-40yo', '41-50yo', '51-60yo', '61yo+']\n",
        "\n",
        "# Group ages into bins\n",
        "age_groups = pd.cut(df['age'], bins=age_bins, labels=age_labels)\n",
        "\n",
        "# Plotting a bar plot for age distribution\n",
        "plt.figure(figsize=(10, 6))\n",
        "age_groups.value_counts().sort_index().plot(kind='bar', color='skyblue')\n",
        "plt.title('Age Distribution For Better View')\n",
        "plt.xlabel('Age Group')\n",
        "plt.ylabel('Count')\n",
        "plt.xticks(rotation=45)\n",
        "plt.grid(axis='y', linestyle='--', alpha=0.7)\n",
        "plt.tight_layout()\n",
        "plt.show()\n"
      ]
    },
    {
      "cell_type": "code",
      "execution_count": null,
      "metadata": {
        "id": "QX5jbwGfqlaZ"
      },
      "outputs": [],
      "source": [
        "import matplotlib.pyplot as plt\n",
        "\n",
        "# Define age groups\n",
        "age_bins = [17, 20, 30, 40, 50, 60, 100]\n",
        "age_labels = ['18-20yo', '21-30yo', '31-40yo', '41-50yo', '51-60yo', '61yo+']\n",
        "\n",
        "# Group ages into bins\n",
        "age_groups = pd.cut(df['age'], bins=age_bins, labels=age_labels)\n",
        "\n",
        "# Count 'male' and 'female' within each age group\n",
        "gender_counts = df.groupby([age_groups, 'gender']).size().unstack().fillna(0)\n",
        "\n",
        "# Plotting a stacked bar plot for age distribution with different colors for male and female\n",
        "plt.figure(figsize=(10, 6))\n",
        "gender_counts.plot(kind='bar', stacked=True, color=['#4169E1', '#800080'])\n",
        "plt.title('Age Distribution by Gender')\n",
        "plt.xlabel('Age Group')\n",
        "plt.ylabel('Count')\n",
        "plt.xticks(rotation=45)\n",
        "plt.grid(axis='y', linestyle='--', alpha=0.7)\n",
        "plt.legend(title='Gender')\n",
        "plt.tight_layout()\n",
        "plt.show()\n"
      ]
    },
    {
      "cell_type": "markdown",
      "metadata": {
        "id": "VRh_SVSuqlaZ"
      },
      "source": [
        "# Distribution of purchase categories relative to gender"
      ]
    },
    {
      "cell_type": "code",
      "execution_count": null,
      "metadata": {
        "id": "jACBaqNyqlaZ"
      },
      "outputs": [],
      "source": [
        "df.pivot_table(index='gender',columns='category',values='age_group', aggfunc=(['count']))"
      ]
    },
    {
      "cell_type": "code",
      "execution_count": null,
      "metadata": {
        "id": "ncW7Hf84qlaZ"
      },
      "outputs": [],
      "source": [
        "fig = px.histogram(df, x='gender',color='category',marginal='box',hover_data=df.columns,title= 'Distribution of purchase categories relative to gender', width=1200, height=600,template='plotly_dark')\n",
        "fig.show()"
      ]
    },
    {
      "cell_type": "markdown",
      "metadata": {
        "id": "purPeglZqlaZ"
      },
      "source": [
        "# Distribution of purchase categories relative to category and age"
      ]
    },
    {
      "cell_type": "code",
      "execution_count": null,
      "metadata": {
        "id": "82ksiXH1qlaZ"
      },
      "outputs": [],
      "source": [
        "df.groupby('quantity')['category'].agg(['count']).sort_values(by='count',ascending=False)"
      ]
    },
    {
      "cell_type": "code",
      "execution_count": null,
      "metadata": {
        "id": "C_WK-LCJqlaa"
      },
      "outputs": [],
      "source": [
        "df.pivot_table(index='quantity',columns='category',values='age_group', aggfunc=(['count']))"
      ]
    },
    {
      "cell_type": "code",
      "execution_count": null,
      "metadata": {
        "id": "fjksTL_hqlaa"
      },
      "outputs": [],
      "source": [
        "df.pivot_table(index='quantity',columns='category',values='age_group', aggfunc=(['count'])).plot(kind='bar', figsize=(10,10), title= 'Distribution of purchase categories relative to category and age')\n",
        "plt.show()"
      ]
    },
    {
      "cell_type": "markdown",
      "metadata": {
        "id": "11_sGYf0qlaa"
      },
      "source": [
        "# Distribution relative to the payment method"
      ]
    },
    {
      "cell_type": "code",
      "execution_count": null,
      "metadata": {
        "id": "NUEVhZd9qlaa"
      },
      "outputs": [],
      "source": [
        "df.groupby('payment_method')['age_group'].agg(['count'])"
      ]
    },
    {
      "cell_type": "code",
      "execution_count": null,
      "metadata": {
        "id": "ymAaoXNRqlaa"
      },
      "outputs": [],
      "source": [
        "import matplotlib.pyplot as plt\n",
        "\n",
        "# Define custom colors for 'credit' and 'debit'\n",
        "custom_colors = ['#3CB371', '#FF6347']  # Green for credit, Red for debit\n",
        "\n",
        "# Group by payment method and count age groups\n",
        "payment_counts = df.groupby('payment_method')['age_group'].count()\n",
        "\n",
        "# Plotting a pie chart for payment method distribution with custom colors\n",
        "plt.figure(figsize=(8, 8))\n",
        "payment_counts.plot(kind='pie', autopct='%1.1f%%', colors=custom_colors)\n",
        "plt.title('Payment Method Distribution')\n",
        "plt.axis('equal')  # Equal aspect ratio ensures that pie is drawn as a circle.\n",
        "plt.show()\n"
      ]
    },
    {
      "cell_type": "markdown",
      "metadata": {
        "id": "E077hZ0rufHq"
      },
      "source": [
        "idk why the code doesn't want to add the two debit with each other ,\n",
        "**but it's equal 64.9% All**"
      ]
    },
    {
      "cell_type": "code",
      "execution_count": null,
      "metadata": {
        "id": "XASilAOuqlaa"
      },
      "outputs": [],
      "source": [
        "plt.figure(figsize=(18,12))\n",
        "sns.scatterplot(data=df, x='price', y='payment_method', hue='age_group', legend=True)\n",
        "plt.xticks(rotation=90)\n",
        "plt.title('Distribution relative to the payment method',fontsize = 20)\n",
        "plt.show()"
      ]
    },
    {
      "cell_type": "markdown",
      "metadata": {
        "id": "zK42Ize8qlaa"
      },
      "source": [
        "# Distribution Age with Categories"
      ]
    },
    {
      "cell_type": "code",
      "execution_count": null,
      "metadata": {
        "id": "wLxRTW84qlab"
      },
      "outputs": [],
      "source": [
        "df.pivot_table(index='age_group',columns='category',values='payment_method', aggfunc=(['count']))"
      ]
    },
    {
      "cell_type": "code",
      "execution_count": null,
      "metadata": {
        "id": "5QDyX66Pqlab"
      },
      "outputs": [],
      "source": [
        "sns.displot(df, x='age_group',bins=70, hue='category',aspect=2.9).set(title='Distribution of product categories relative to age groups')\n",
        "plt.xticks(rotation=90)\n",
        "plt.show()"
      ]
    },
    {
      "cell_type": "markdown",
      "metadata": {
        "id": "ZuAcGcf0qlac"
      },
      "source": [
        "# Dist. of avr. Price"
      ]
    },
    {
      "cell_type": "code",
      "execution_count": null,
      "metadata": {
        "id": "mUdhBGOlqlac"
      },
      "outputs": [],
      "source": [
        "df.groupby('category')['price'].agg(['mean','sum']).sort_values(by='mean',ascending=False)"
      ]
    },
    {
      "cell_type": "code",
      "execution_count": null,
      "metadata": {
        "id": "9FED9XU-qlac"
      },
      "outputs": [],
      "source": [
        "plt.subplots(figsize=(20,15))\n",
        "plt.xticks(rotation=90)\n",
        "sns.boxplot(x='category', y='price', data=df)\n",
        "plt.show()"
      ]
    },
    {
      "cell_type": "code",
      "execution_count": null,
      "metadata": {
        "id": "3Qi5qLEvqlac"
      },
      "outputs": [],
      "source": [
        "fig = px.histogram(df, x='age', y='price', color='shopping_mall',barmode='relative',marginal='box', title='Distribution of the price of goods in shopping centers and the costs of buyers', width=1200, height=600 ,template='plotly_dark')\n",
        "fig.show()"
      ]
    },
    {
      "cell_type": "code",
      "execution_count": null,
      "metadata": {
        "id": "ZpcRn5xeqlac"
      },
      "outputs": [],
      "source": [
        "df['price'] = df['price'].astype(int)"
      ]
    },
    {
      "cell_type": "code",
      "execution_count": null,
      "metadata": {
        "id": "G6fCiMgUqlad"
      },
      "outputs": [],
      "source": [
        "df"
      ]
    },
    {
      "cell_type": "code",
      "execution_count": null,
      "metadata": {
        "id": "e6e0EDkOqlad"
      },
      "outputs": [],
      "source": [
        "from sklearn import svm, preprocessing\n",
        "from sklearn.model_selection import train_test_split\n",
        "from sklearn.linear_model import LinearRegression\n",
        "from sklearn import metrics\n",
        "from sklearn.metrics import r2_score\n",
        "from matplotlib import style\n"
      ]
    },
    {
      "cell_type": "code",
      "execution_count": null,
      "metadata": {
        "id": "FrE4XZ5qqlad"
      },
      "outputs": [],
      "source": [
        "df2=df.copy()"
      ]
    },
    {
      "cell_type": "code",
      "execution_count": null,
      "metadata": {
        "id": "tHMzA13kqlad"
      },
      "outputs": [],
      "source": [
        "df2['customer_id']=pd.factorize(df2.customer_id)[0]\n",
        "df2['gender']=pd.factorize(df2.gender)[0]\n",
        "df2['category']=pd.factorize(df2.category)[0]\n",
        "df2['payment_method']=pd.factorize(df2.payment_method)[0]\n",
        "df2['shopping_mall']=pd.factorize(df2.shopping_mall)[0]\n",
        "df2['age_group']=pd.factorize(df2.age_group)[0]\n",
        "df2['invoice_date']=pd.factorize(df2.invoice_date)[0]"
      ]
    },
    {
      "cell_type": "code",
      "execution_count": null,
      "metadata": {
        "id": "WWa74yS78xt0"
      },
      "outputs": [],
      "source": [
        "df2['price'] = pd.to_numeric(df2['price'], errors='coerce')"
      ]
    },
    {
      "cell_type": "code",
      "execution_count": null,
      "metadata": {
        "id": "x1cyDuUXqlae"
      },
      "outputs": [],
      "source": [
        "x = df2.drop('price',axis=1)\n",
        "y = df2['price']"
      ]
    },
    {
      "cell_type": "code",
      "execution_count": null,
      "metadata": {
        "id": "JdibnAN2qlae"
      },
      "outputs": [],
      "source": [
        "from sklearn.model_selection import train_test_split\n",
        "x_train,x_test,y_train,y_test = train_test_split(x,y,random_state=43, test_size=0.2)"
      ]
    },
    {
      "cell_type": "code",
      "execution_count": null,
      "metadata": {
        "id": "QV8-erp-qlae"
      },
      "outputs": [],
      "source": [
        "from sklearn.ensemble import RandomForestClassifier\n",
        "rfc = RandomForestClassifier(random_state=42,min_samples_leaf=100)"
      ]
    },
    {
      "cell_type": "code",
      "execution_count": null,
      "metadata": {
        "id": "C1OGh27wqlae"
      },
      "outputs": [],
      "source": [
        "rfc.fit(x_train,y_train)"
      ]
    },
    {
      "cell_type": "code",
      "execution_count": null,
      "metadata": {
        "id": "BlE9TMUiqlae"
      },
      "outputs": [],
      "source": [
        "y_pred = rfc.predict(x_test)"
      ]
    },
    {
      "cell_type": "code",
      "execution_count": null,
      "metadata": {
        "id": "tn7eJJnpqlae"
      },
      "outputs": [],
      "source": [
        "from sklearn.metrics import accuracy_score\n",
        "accuracy = accuracy_score(y_test,y_pred)"
      ]
    },
    {
      "cell_type": "code",
      "execution_count": null,
      "metadata": {
        "id": "kFbmBbPSqlae"
      },
      "outputs": [],
      "source": [
        "print('Accuracy:',accuracy)"
      ]
    },
    {
      "cell_type": "code",
      "execution_count": null,
      "metadata": {
        "id": "HY2V2q0Rqlaf"
      },
      "outputs": [],
      "source": [
        "df2['Prediction']=rfc.predict(x)"
      ]
    },
    {
      "cell_type": "code",
      "execution_count": null,
      "metadata": {
        "id": "xqqFnb-iqlaf"
      },
      "outputs": [],
      "source": [
        "df2.head(10)"
      ]
    },
    {
      "cell_type": "code",
      "execution_count": null,
      "metadata": {
        "id": "EyJ1SKxYqlaf"
      },
      "outputs": [],
      "source": [
        "fig=px.line(df2,x='invoice_date',y=['price','Prediction'],template='ggplot2')\n",
        "fig.show()"
      ]
    },
    {
      "cell_type": "code",
      "execution_count": null,
      "metadata": {
        "id": "W_f33TNy9pt1"
      },
      "outputs": [],
      "source": [
        "import plotly.graph_objects as go\n",
        "import plotly.express as px\n",
        "\n",
        "# Assuming df2 is your DataFrame containing 'invoice_date', 'price', and 'Prediction' columns\n",
        "\n",
        "fig = go.Figure()\n",
        "\n",
        "# Add the actual price data\n",
        "fig.add_trace(go.Scatter(x=df2['invoice_date'], y=df2['price'], mode='lines', name='Actual Price'))\n",
        "\n",
        "# Add the predicted price data\n",
        "fig.add_trace(go.Scatter(x=df2['invoice_date'], y=df2['Prediction'], mode='lines', name='Predicted Price'))\n",
        "\n",
        "# Update the layout\n",
        "fig.update_layout(title='Actual vs. Predicted Prices Over Time',\n",
        "                  xaxis_title='Invoice Date',\n",
        "                  yaxis_title='Price',\n",
        "                  template='plotly_dark')  # You can choose a different template if needed\n",
        "\n",
        "# Show the figure\n",
        "fig.show()\n"
      ]
    },
    {
      "cell_type": "code",
      "source": [],
      "metadata": {
        "id": "JeOcVhERBATn"
      },
      "execution_count": null,
      "outputs": []
    }
  ],
  "metadata": {
    "accelerator": "GPU",
    "colab": {
      "gpuType": "T4",
      "provenance": []
    },
    "kaggle": {
      "accelerator": "gpu",
      "dataSources": [
        {
          "datasetId": 2980151,
          "sourceId": 5132961,
          "sourceType": "datasetVersion"
        }
      ],
      "dockerImageVersionId": 30407,
      "isGpuEnabled": true,
      "isInternetEnabled": true,
      "language": "python",
      "sourceType": "notebook"
    },
    "kernelspec": {
      "display_name": "Python 3",
      "name": "python3"
    },
    "language_info": {
      "codemirror_mode": {
        "name": "ipython",
        "version": 3
      },
      "file_extension": ".py",
      "mimetype": "text/x-python",
      "name": "python",
      "nbconvert_exporter": "python",
      "pygments_lexer": "ipython3",
      "version": "3.7.12"
    }
  },
  "nbformat": 4,
  "nbformat_minor": 0
}